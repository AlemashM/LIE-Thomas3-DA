{
 "cells": [
  {
   "cell_type": "markdown",
   "metadata": {},
   "source": [
    "# Embedding\n",
    "\n",
    "## Why Embedding?\n",
    "As we know, machines can't handle text, it can only handle numbers. But how to convert a word to numbers?\n",
    "\n",
    "The most naive approach would be to take a list of all the words in your text and attribute a number to all of them. It will work but you can imagine that some problems will appear:\n",
    "* How do you handle unknown words? \n",
    "* If your text contains `doctor`, `nurse`, and `candy`. `doctor` and `nurse` have a strong similarity but `candy` doesn't. How can we make the machine understand that? With our naive technique, `doctor` could have the number `5` associated to it and nurse the number `98767`.\n",
    "\n",
    "Of course, a lot of people already spent some time with those problems. the solution that came out of it is \"Embedding\". \n",
    "\n",
    "## What is embeddings?\n",
    "\n",
    "An embedding is a **VECTOR** which represents a word or a document.\n",
    "\n",
    "A vector will be attributed to each token. Each vector will contain multiple dimensions (usually tens or hundreds of dimensions).\n",
    "\n",
    "```\n",
    "[...] associate with each word in the vocabulary a distributed word feature vector [...] The feature vector represents different aspects of the word: each word is associated with a point in a vector space. The number of features [...] is much smaller than the size of the vocabulary.\n",
    "```\n",
    "- [A Neural Probabilistic Language Model](https://www.jmlr.org/papers/volume3/bengio03a/bengio03a.pdf), 2003.\n",
    "\n",
    "Long story short, embeddings convert words into vectors in a way that allows the machine to understand the similarity betweens them.\n",
    "\n",
    "Each embedding library has it's own way of classifying words, it will regroup words into big categories. Each word will get a score for each category.\n",
    "\n",
    "To take a simple example the word `mother` could be classified like that:\n",
    "\n",
    "|        | female | family | human | animal|\n",
    "|--------|--------|---------|-------|-------|\n",
    "| mother | 0.9    | 0.9.    | 0.7   | 0.1   |\n",
    "\n",
    "**Explanations:** Mother has a strong similarity with female, family and human but it has a low similarity with animal.\n",
    "\n",
    "**Disclaimer:** Those numbers and categories are totally arbitrary and are only here to show an example.\n",
    "\n",
    "Here is another example with more complete datas:\n",
    "\n",
    "![embedding](https://miro.medium.com/max/2598/1*sAJdxEsDjsPMioHyzlN3_A.png)\n",
    "\n",
    "## Should I do it by hand?\n",
    "\n",
    "You could, but if some people already did the job for you and spent a lot of time to optimize it, why not use it?\n",
    "\n",
    "## What to use?\n",
    "\n",
    "There are a lot of libraries out there for embeddings. Which one is the best? Once again, *it depends*. The results will change depending on the text you are using, the information you want to extract, the model you use,...\n",
    "\n",
    "Choosing the \"best\" embedding model will be part of the hyper-optimization that you can do at the end of a project.\n",
    "\n",
    "If you want understand embeddings more in depth, [follow this link](http://jalammar.github.io/illustrated-word2vec/)\n",
    "\n",
    "Here are some of the best libraries of the moment:\n",
    "\n",
    "* [Flair](https://github.com/flairNLP/flair) (University of Berlin)\n",
    "* [fasttext](https://fasttext.cc/) (Facebook)\n",
    "* [GloVe](https://github.com/stanfordnlp/GloVe) (Stanford)\n",
    "\n",
    "And the oldest way doing it (but still good):\n",
    "* [Word2Vec](https://www.tensorflow.org/tutorials/text/word2vec)"
   ]
  },
  {
   "cell_type": "markdown",
   "metadata": {},
   "source": [
    "## Practice time!\n",
    "\n",
    "Enough reading, let's practice a bit. Can you use SpaCy to embed this sentence?\n",
    "Read the [spacy embedding documentation](https://spacy.io/usage/vectors-similarity)"
   ]
  },
  {
   "cell_type": "code",
   "execution_count": null,
   "metadata": {},
   "outputs": [],
   "source": [
    "sentence = \"I love learning\"\n",
    "\n",
    "# Embed `sentence` with SpaCy"
   ]
  },
  {
   "cell_type": "code",
   "execution_count": 1,
   "metadata": {},
   "outputs": [
    {
     "name": "stdout",
     "output_type": "stream",
     "text": [
      "[-0.9609344   0.20677902 -0.62800056  0.33566132 -0.17477244  0.39273295\n",
      "  0.40519255 -0.28901088  1.3825531   0.26420912 -1.0041962  -1.1824207\n",
      " -0.1520155  -0.97915804 -0.6575837   0.5598709  -0.2841487  -0.7922797\n",
      "  0.4581824   0.3828587  -0.93899     1.5252625  -0.92354906  0.35772175\n",
      "  0.68358743  0.15430716  0.7263356   1.6879115  -0.17635188 -0.06975276\n",
      "  0.820063    1.0489025  -0.16330495 -0.08407921  0.07734901 -0.44011188\n",
      " -0.5212711   0.8024858   0.26445475 -0.774002    1.4326906   0.1759755\n",
      " -0.9683877  -0.264815    0.19779815 -0.50990546  0.72333026 -0.6257796\n",
      "  0.5614673  -0.00647792 -0.52087873  0.55140567 -0.22797188 -0.46541998\n",
      " -0.50626516 -1.24664    -0.01070365  1.3681626  -0.31361055 -0.66095114\n",
      " -0.57414556  0.3104334   0.11835825  0.21182795 -1.1770763   0.5940974\n",
      " -0.6974372  -0.88598126  0.01478341  0.98901165  0.24189739 -0.43389964\n",
      "  0.6267583   1.0036407   0.48609126  0.06991976  0.0817831   0.17718028\n",
      " -0.2722563  -0.6567501  -0.49260366 -0.6815014  -1.2339319  -0.6117375\n",
      "  0.9529581   0.28751022  0.59544003 -0.32029983 -0.93026644 -0.1570584\n",
      " -0.10752733  0.21954298  0.3675692   1.2651521  -0.06596659  0.24451983]\n"
     ]
    }
   ],
   "source": [
    "import spacy\n",
    "\n",
    "nlp = spacy.load(\"en_core_web_sm\")\n",
    "\n",
    "sentence = \"I love learning\"\n",
    "\n",
    "doc = nlp(sentence)\n",
    "\n",
    "# Calculate the average vector for the sentence\n",
    "num_tokens = 0\n",
    "sentence_vector = 0\n",
    "\n",
    "for token in doc:\n",
    "    if not token.is_stop and not token.is_punct:\n",
    "        sentence_vector += token.vector\n",
    "        num_tokens += 1\n",
    "\n",
    "if num_tokens > 0:\n",
    "    sentence_vector /= num_tokens\n",
    "\n",
    "print(sentence_vector)\n"
   ]
  },
  {
   "cell_type": "markdown",
   "metadata": {},
   "source": [
    "What is the shape of each word's vector?"
   ]
  },
  {
   "cell_type": "code",
   "execution_count": 2,
   "metadata": {},
   "outputs": [
    {
     "name": "stdout",
     "output_type": "stream",
     "text": [
      "Token: I, Vector shape: (96,)\n",
      "Token: love, Vector shape: (96,)\n",
      "Token: learning, Vector shape: (96,)\n"
     ]
    }
   ],
   "source": [
    "import spacy\n",
    "\n",
    "nlp = spacy.load(\"en_core_web_sm\")\n",
    "\n",
    "sentence = \"I love learning\"\n",
    "\n",
    "doc = nlp(sentence)\n",
    "\n",
    "for token in doc:\n",
    "    print(f\"Token: {token.text}, Vector shape: {token.vector.shape}\")\n"
   ]
  },
  {
   "cell_type": "markdown",
   "metadata": {},
   "source": [
    "Try with Flair and Glove now (You will find how to do [here](https://github.com/flairNLP/flair/blob/master/resources/docs/TUTORIAL_3_WORD_EMBEDDING.md))"
   ]
  },
  {
   "cell_type": "code",
   "execution_count": null,
   "metadata": {},
   "outputs": [],
   "source": [
    "sentence = \"I love learning\"\n",
    "\n",
    "# Embed with Flair"
   ]
  },
  {
   "cell_type": "code",
   "execution_count": 7,
   "metadata": {},
   "outputs": [
    {
     "name": "stdout",
     "output_type": "stream",
     "text": [
      "tensor([])\n"
     ]
    }
   ],
   "source": [
    "from flair.data import Sentence\n",
    "from flair.embeddings import WordEmbeddings\n",
    "# Load the pre-trained word embeddings (e.g., GloVe)\n",
    "embedding = WordEmbeddings('glove')\n",
    "\n",
    "# Define the sentence\n",
    "sentence = Sentence(\"I love learning\")\n",
    "\n",
    "# Embed the sentence\n",
    "embedding.embed(sentence)\n",
    "\n",
    "# Access the embedded sentence\n",
    "embedded_sentence = sentence.get_embedding()\n",
    "\n",
    "print(embedded_sentence)\n"
   ]
  },
  {
   "cell_type": "code",
   "execution_count": null,
   "metadata": {},
   "outputs": [],
   "source": [
    "sentence = \"I love learning\"\n",
    "\n",
    "# Embed with Glove"
   ]
  },
  {
   "cell_type": "code",
   "execution_count": 6,
   "metadata": {},
   "outputs": [
    {
     "name": "stdout",
     "output_type": "stream",
     "text": [
      "tensor([])\n"
     ]
    }
   ],
   "source": [
    "from flair.data import Sentence\n",
    "from flair.embeddings import WordEmbeddings\n",
    "# Load GloVe word embeddings\n",
    "glove_embedding = WordEmbeddings('glove')\n",
    "\n",
    "# Define the sentence\n",
    "sentence = Sentence(\"I love learning\")\n",
    "\n",
    "# Embed the sentence with GloVe\n",
    "glove_embedding.embed(sentence)\n",
    "\n",
    "# Get the embedded representation of the sentence\n",
    "embedded_sentence = sentence.get_embedding()\n",
    "\n",
    "print(embedded_sentence)\n"
   ]
  },
  {
   "cell_type": "code",
   "execution_count": 5,
   "metadata": {},
   "outputs": [
    {
     "name": "stdout",
     "output_type": "stream",
     "text": [
      "2024-01-03 11:45:13,250 https://flair.informatik.hu-berlin.de/resources/embeddings/token/glove.gensim.vectors.npy not found in cache, downloading to C:\\Users\\becode\\AppData\\Local\\Temp\\tmpc7up80sk\n"
     ]
    },
    {
     "name": "stderr",
     "output_type": "stream",
     "text": [
      "100%|██████████| 153M/153M [02:13<00:00, 1.20MB/s] "
     ]
    },
    {
     "name": "stdout",
     "output_type": "stream",
     "text": [
      "2024-01-03 11:47:27,317 copying C:\\Users\\becode\\AppData\\Local\\Temp\\tmpc7up80sk to cache at C:\\Users\\becode\\.flair\\embeddings\\glove.gensim.vectors.npy\n"
     ]
    },
    {
     "name": "stderr",
     "output_type": "stream",
     "text": [
      "\n"
     ]
    },
    {
     "name": "stdout",
     "output_type": "stream",
     "text": [
      "2024-01-03 11:47:27,447 removing temp file C:\\Users\\becode\\AppData\\Local\\Temp\\tmpc7up80sk\n",
      "2024-01-03 11:47:28,134 https://flair.informatik.hu-berlin.de/resources/embeddings/token/glove.gensim not found in cache, downloading to C:\\Users\\becode\\AppData\\Local\\Temp\\tmphpyxljwi\n"
     ]
    },
    {
     "name": "stderr",
     "output_type": "stream",
     "text": [
      "100%|██████████| 20.5M/20.5M [00:16<00:00, 1.32MB/s]"
     ]
    },
    {
     "name": "stdout",
     "output_type": "stream",
     "text": [
      "2024-01-03 11:47:45,082 copying C:\\Users\\becode\\AppData\\Local\\Temp\\tmphpyxljwi to cache at C:\\Users\\becode\\.flair\\embeddings\\glove.gensim\n",
      "2024-01-03 11:47:45,101 removing temp file C:\\Users\\becode\\AppData\\Local\\Temp\\tmphpyxljwi\n"
     ]
    },
    {
     "name": "stderr",
     "output_type": "stream",
     "text": [
      "\n"
     ]
    },
    {
     "name": "stdout",
     "output_type": "stream",
     "text": [
      "tensor([ 0.2871,  0.6256,  0.2490,  0.0323, -0.3965,  0.5307, -0.2320, -0.0206,\n",
      "         0.0380, -0.1554,  0.1591,  0.1110,  0.0536,  0.2474,  0.2462, -0.2273,\n",
      "         0.1189,  0.4838, -0.7186,  0.9239, -0.2200,  0.2697, -0.1163, -0.2402,\n",
      "         0.1630,  0.5188, -0.0676, -0.5229,  0.4881, -0.0694, -0.5662,  0.9540,\n",
      "         0.2895, -0.0991,  0.2106,  0.1612, -0.2663,  0.5885,  0.5342, -0.4383,\n",
      "        -0.3161,  0.0542,  0.0438, -0.5422, -0.5842,  0.0417,  0.0208, -0.1604,\n",
      "         0.2743, -0.9683, -0.1186, -0.0286,  0.2614,  0.8368,  0.0640, -2.4276,\n",
      "         0.5323,  0.3180,  1.1892,  0.5040,  0.1954,  1.0554, -0.6102, -0.4509,\n",
      "         0.4863,  0.2852,  0.7000,  0.1887,  0.0421, -0.1246,  0.1248,  0.0735,\n",
      "         0.3206, -0.3634, -0.1920,  0.6117, -0.0263, -0.1255, -0.4844, -0.2569,\n",
      "        -0.0136,  0.0732, -0.3431,  0.1828, -1.6385,  0.1506, -0.3427, -0.6606,\n",
      "        -0.7121, -0.3909, -0.3779, -0.2676,  0.2458,  0.3369, -0.3668, -0.0537,\n",
      "        -0.3592, -0.7633,  0.2861,  0.6154])\n"
     ]
    }
   ],
   "source": [
    "from flair.data import Sentence\n",
    "from flair.embeddings import WordEmbeddings, DocumentPoolEmbeddings\n",
    "\n",
    "# Load GloVe word embeddings\n",
    "glove_embedding = WordEmbeddings('glove')\n",
    "\n",
    "# Define the sentence\n",
    "sentence = Sentence(\"I love learning\")\n",
    "\n",
    "# Add the GloVe embedding to a DocumentPoolEmbeddings container\n",
    "document_embeddings = DocumentPoolEmbeddings([glove_embedding])\n",
    "\n",
    "# Embed the sentence\n",
    "document_embeddings.embed(sentence)\n",
    "\n",
    "# Get the embedded representation of the sentence\n",
    "embedded_sentence = sentence.get_embedding()\n",
    "\n",
    "print(embedded_sentence)\n"
   ]
  },
  {
   "cell_type": "markdown",
   "metadata": {},
   "source": [
    "What is the shape of each word's vector?"
   ]
  },
  {
   "cell_type": "code",
   "execution_count": 8,
   "metadata": {},
   "outputs": [
    {
     "name": "stdout",
     "output_type": "stream",
     "text": [
      "Token: Token[0]: \"I\", Vector shape: torch.Size([100])\n",
      "Token: Token[1]: \"love\", Vector shape: torch.Size([100])\n",
      "Token: Token[2]: \"learning\", Vector shape: torch.Size([100])\n"
     ]
    }
   ],
   "source": [
    "from flair.embeddings import WordEmbeddings\n",
    "from flair.data import Sentence\n",
    "\n",
    "# Load GloVe word embeddings\n",
    "glove_embedding = WordEmbeddings('glove')\n",
    "\n",
    "# Define the sentence\n",
    "sentence = Sentence(\"I love learning\")\n",
    "\n",
    "# Embed the sentence with GloVe\n",
    "glove_embedding.embed(sentence)\n",
    "\n",
    "# Access the shape of each word's vector\n",
    "for token in sentence:\n",
    "    print(f\"Token: {token}, Vector shape: {token.embedding.shape}\")\n"
   ]
  },
  {
   "cell_type": "markdown",
   "metadata": {},
   "source": [
    "Your text is now embedded, your model will be able to understand it, yeah!\n",
    "\n",
    "## Maths on text\n",
    "\n",
    "Since the words are embedded into vectors we can now apply mathematical methods on them.\n",
    "\n",
    "### Average vector\n",
    "\n",
    "For example we could build the average vector for a text by using NumPy! This is a straightforward way to build one single representation for a text."
   ]
  },
  {
   "cell_type": "code",
   "execution_count": null,
   "metadata": {},
   "outputs": [],
   "source": [
    "text = \"I want to be a famous data scientist\"\n",
    "\n",
    "# Apply a spacy model on the text\n",
    "\n",
    "# Get all word vectors into a list\n",
    "\n",
    "# Compute and display the average vector of the text"
   ]
  },
  {
   "cell_type": "code",
   "execution_count": 9,
   "metadata": {},
   "outputs": [
    {
     "name": "stdout",
     "output_type": "stream",
     "text": [
      "Average Vector Shape: (96,)\n",
      "Average Vector: [-0.3654937  -0.38459802 -0.03600696  0.1665831  -0.2604949  -0.20714197\n",
      "  0.5528618   0.04135784  0.0504141   0.49082607 -0.3910929  -0.06535681\n",
      " -0.17045459  0.4250961  -0.5463355   0.1105784   0.30260336 -0.44005656\n",
      " -0.2059417   0.0240252  -0.16197489 -0.13523968 -0.7980706  -0.09066293\n",
      "  0.38363916 -0.5328323   0.2094995   0.60676956  0.3989598   0.25029638\n",
      "  0.16502959  0.12283247  0.54348916 -0.42070842 -0.09966052 -0.14620785\n",
      "  0.02098531  0.00686303 -0.01750061 -0.10513993 -0.17255153  0.51213837\n",
      " -0.00557378  0.28086853  0.16137688  0.03765985  0.3014943   0.63864344\n",
      "  0.06741595  0.21431287 -0.6729937   0.548541    0.01149153 -0.4430378\n",
      "  0.05876388 -0.01845983 -0.27450767  0.8814877  -0.53976923 -0.19735704\n",
      "  0.31136662  0.0170902  -0.16493943 -0.47753382  0.14582148 -0.26741064\n",
      "  0.16711408 -0.08580039  0.05300102  0.02736029  0.09043667  0.1674525\n",
      "  0.11383164  0.23527867 -0.17614998 -0.3664943  -0.16671818 -0.05783455\n",
      " -0.17652021 -0.18499224 -0.70085645  0.09935854 -0.0754758   0.09855773\n",
      " -0.32044244  0.14050466 -0.1770837  -0.37553    -0.31468466  0.1366856\n",
      " -0.02198212  0.25423312  0.62749124  0.2630293  -0.34959835  0.28027838]\n"
     ]
    }
   ],
   "source": [
    "import spacy\n",
    "\n",
    "# Load the SpaCy model\n",
    "nlp = spacy.load(\"en_core_web_sm\")\n",
    "\n",
    "# Define the text\n",
    "text = \"I want to be a famous data scientist\"\n",
    "\n",
    "# Apply the SpaCy model to the text\n",
    "doc = nlp(text)\n",
    "\n",
    "# Get all word vectors into a list\n",
    "word_vectors = [token.vector for token in doc]\n",
    "\n",
    "# Compute the average vector of the text\n",
    "average_vector = sum(word_vectors) / len(word_vectors)\n",
    "\n",
    "print(f\"Average Vector Shape: {average_vector.shape}\")\n",
    "print(f\"Average Vector: {average_vector}\")\n"
   ]
  },
  {
   "cell_type": "markdown",
   "metadata": {},
   "source": [
    "### Word similarity\n",
    "\n",
    "We can also compute the similarity between two words by using distance measures (e.g. [cosine distance](https://docs.scipy.org/doc/scipy/reference/generated/scipy.spatial.distance.cosine.html), [euclidean distance](https://docs.scipy.org/doc/scipy/reference/generated/scipy.spatial.distance.euclidean.html)...). These measures will calculate the distance between word embeddings in the vector space.\n",
    "\n",
    "#### Let's practice!"
   ]
  },
  {
   "cell_type": "code",
   "execution_count": null,
   "metadata": {},
   "outputs": [],
   "source": [
    "# Import the required libraries\n",
    "\n",
    "word1 = \"computer\"\n",
    "word2 = \"keyboard\"\n",
    "\n",
    "# Get the vector for both words through your favorite model\n",
    "\n",
    "# Compute the cosine and the euclidean distance between both words\n",
    "\n",
    "# Try with other pairs of words for comparing the results"
   ]
  },
  {
   "cell_type": "code",
   "execution_count": 10,
   "metadata": {},
   "outputs": [
    {
     "name": "stdout",
     "output_type": "stream",
     "text": [
      "Cosine Distance between 'computer' and 'keyboard': 0.26341986656188965\n",
      "Euclidean Distance between 'computer' and 'keyboard': 5.877213954925537\n"
     ]
    }
   ],
   "source": [
    "import spacy\n",
    "from scipy.spatial.distance import cosine, euclidean\n",
    "\n",
    "# Load the spaCy model\n",
    "nlp = spacy.load(\"en_core_web_sm\")\n",
    "\n",
    "# Define the words\n",
    "word1 = \"computer\"\n",
    "word2 = \"keyboard\"\n",
    "\n",
    "# Get the vectors for both words\n",
    "vec1 = nlp(word1).vector\n",
    "vec2 = nlp(word2).vector\n",
    "\n",
    "# Compute the cosine distance\n",
    "cosine_distance = cosine(vec1, vec2)\n",
    "\n",
    "# Compute the Euclidean distance\n",
    "euclidean_distance = euclidean(vec1, vec2)\n",
    "\n",
    "print(f\"Cosine Distance between '{word1}' and '{word2}': {cosine_distance}\")\n",
    "print(f\"Euclidean Distance between '{word1}' and '{word2}': {euclidean_distance}\")\n"
   ]
  },
  {
   "cell_type": "markdown",
   "metadata": {},
   "source": [
    "## Stack embeddings\n",
    "\n",
    "The previous embeddings are good, but if you want something even better, you can \"stack\" these embeddings to create a bigger vector. It gives better results but will also require more computation power.\n",
    "\n",
    "[Here is a super clear and understandable guide](https://github.com/flairNLP/flair/blob/master/resources/docs/TUTORIAL_3_WORD_EMBEDDING.md) to get it done. (by the Flair's team)\n"
   ]
  },
  {
   "cell_type": "code",
   "execution_count": null,
   "metadata": {},
   "outputs": [],
   "source": []
  },
  {
   "cell_type": "markdown",
   "metadata": {},
   "source": [
    "## More resources\n",
    "* [Why do we use word embeddings in NLP?](https://towardsdatascience.com/why-do-we-use-embeddings-in-nlp-2f20e1b632d2)\n",
    "* [More details on what word embeddings are exactly?](https://www.analyticsvidhya.com/blog/2017/06/word-embeddings-count-word2veec/)"
   ]
  }
 ],
 "metadata": {
  "kernelspec": {
   "display_name": "Python 3.10.5 ('venv': venv)",
   "language": "python",
   "name": "python3"
  },
  "language_info": {
   "codemirror_mode": {
    "name": "ipython",
    "version": 3
   },
   "file_extension": ".py",
   "mimetype": "text/x-python",
   "name": "python",
   "nbconvert_exporter": "python",
   "pygments_lexer": "ipython3",
   "version": "3.11.5"
  },
  "vscode": {
   "interpreter": {
    "hash": "1ea57bea45b518cf48c15b34c69ddf5a63c6b38f630bac26c11b544b5b7ce7d8"
   }
  }
 },
 "nbformat": 4,
 "nbformat_minor": 2
}
